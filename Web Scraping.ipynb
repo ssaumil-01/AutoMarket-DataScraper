{
  "cells": [
    {
      "cell_type": "code",
      "execution_count": null,
      "metadata": {
        "colab": {
          "base_uri": "https://localhost:8080/"
        },
        "collapsed": true,
        "id": "0mq-2_15_uBO",
        "outputId": "9e6fcc1d-a0f8-4215-bfc5-342a08567c0a"
      },
      "outputs": [
        {
          "name": "stdout",
          "output_type": "stream",
          "text": [
            "Reading package lists... Done\n",
            "Building dependency tree... Done\n",
            "Reading state information... Done\n",
            "Package 'chromium-browser' is not installed, so not removed\n",
            "Package 'chromium-chromedriver' is not installed, so not removed\n",
            "0 upgraded, 0 newly installed, 0 to remove and 34 not upgraded.\n",
            "Get:1 http://security.ubuntu.com/ubuntu jammy-security InRelease [129 kB]\n",
            "Get:2 https://cloud.r-project.org/bin/linux/ubuntu jammy-cran40/ InRelease [3,632 B]\n",
            "Get:3 https://developer.download.nvidia.com/compute/cuda/repos/ubuntu2204/x86_64  InRelease [1,581 B]\n",
            "Get:4 https://r2u.stat.illinois.edu/ubuntu jammy InRelease [6,555 B]\n",
            "Hit:5 http://archive.ubuntu.com/ubuntu jammy InRelease\n",
            "Get:6 http://archive.ubuntu.com/ubuntu jammy-updates InRelease [128 kB]\n",
            "Hit:7 https://ppa.launchpadcontent.net/deadsnakes/ppa/ubuntu jammy InRelease\n",
            "Get:8 http://security.ubuntu.com/ubuntu jammy-security/restricted amd64 Packages [4,387 kB]\n",
            "Get:9 https://developer.download.nvidia.com/compute/cuda/repos/ubuntu2204/x86_64  Packages [1,683 kB]\n",
            "Get:10 https://ppa.launchpadcontent.net/graphics-drivers/ppa/ubuntu jammy InRelease [24.3 kB]\n",
            "Get:11 http://security.ubuntu.com/ubuntu jammy-security/main amd64 Packages [2,944 kB]\n",
            "Get:12 http://security.ubuntu.com/ubuntu jammy-security/universe amd64 Packages [1,245 kB]\n",
            "Get:13 https://ppa.launchpadcontent.net/ubuntugis/ppa/ubuntu jammy InRelease [24.6 kB]\n",
            "Get:14 http://archive.ubuntu.com/ubuntu jammy-backports InRelease [127 kB]\n",
            "Get:15 https://r2u.stat.illinois.edu/ubuntu jammy/main amd64 Packages [2,729 kB]\n",
            "Get:16 https://r2u.stat.illinois.edu/ubuntu jammy/main all Packages [8,969 kB]\n",
            "Get:17 https://ppa.launchpadcontent.net/graphics-drivers/ppa/ubuntu jammy/main amd64 Packages [46.6 kB]\n",
            "Get:18 http://archive.ubuntu.com/ubuntu jammy-updates/main amd64 Packages [3,258 kB]\n",
            "Get:19 https://ppa.launchpadcontent.net/ubuntugis/ppa/ubuntu jammy/main amd64 Packages [75.1 kB]\n",
            "Get:20 http://archive.ubuntu.com/ubuntu jammy-updates/restricted amd64 Packages [4,549 kB]\n",
            "Get:21 http://archive.ubuntu.com/ubuntu jammy-updates/universe amd64 Packages [1,552 kB]\n",
            "Get:22 http://archive.ubuntu.com/ubuntu jammy-backports/universe amd64 Packages [35.2 kB]\n",
            "Get:23 http://archive.ubuntu.com/ubuntu jammy-backports/main amd64 Packages [83.2 kB]\n",
            "Fetched 32.0 MB in 5s (6,971 kB/s)\n",
            "Reading package lists... Done\n",
            "W: Skipping acquire of configured file 'main/source/Sources' as repository 'https://r2u.stat.illinois.edu/ubuntu jammy InRelease' does not seem to provide it (sources.list entry misspelt?)\n",
            "--2025-05-27 11:24:56--  https://storage.googleapis.com/chrome-for-testing-public/122.0.6261.111/linux64/chrome-linux64.zip\n",
            "Resolving storage.googleapis.com (storage.googleapis.com)... 74.125.139.207, 173.194.210.207, 173.194.212.207, ...\n",
            "Connecting to storage.googleapis.com (storage.googleapis.com)|74.125.139.207|:443... connected.\n",
            "HTTP request sent, awaiting response... 200 OK\n",
            "Length: 149159217 (142M) [application/zip]\n",
            "Saving to: ‘chrome-linux64.zip’\n",
            "\n",
            "chrome-linux64.zip  100%[===================>] 142.25M   149MB/s    in 1.0s    \n",
            "\n",
            "2025-05-27 11:24:57 (149 MB/s) - ‘chrome-linux64.zip’ saved [149159217/149159217]\n",
            "\n",
            "--2025-05-27 11:25:02--  https://storage.googleapis.com/chrome-for-testing-public/122.0.6261.111/linux64/chromedriver-linux64.zip\n",
            "Resolving storage.googleapis.com (storage.googleapis.com)... 74.125.139.207, 173.194.210.207, 173.194.212.207, ...\n",
            "Connecting to storage.googleapis.com (storage.googleapis.com)|74.125.139.207|:443... connected.\n",
            "HTTP request sent, awaiting response... 200 OK\n",
            "Length: 8597973 (8.2M) [application/zip]\n",
            "Saving to: ‘chromedriver-linux64.zip’\n",
            "\n",
            "chromedriver-linux6 100%[===================>]   8.20M  --.-KB/s    in 0.09s   \n",
            "\n",
            "2025-05-27 11:25:02 (87.0 MB/s) - ‘chromedriver-linux64.zip’ saved [8597973/8597973]\n",
            "\n",
            "\u001b[2K   \u001b[90m━━━━━━━━━━━━━━━━━━━━━━━━━━━━━━━━━━━━━━━━\u001b[0m \u001b[32m9.4/9.4 MB\u001b[0m \u001b[31m58.9 MB/s\u001b[0m eta \u001b[36m0:00:00\u001b[0m\n",
            "\u001b[2K   \u001b[90m━━━━━━━━━━━━━━━━━━━━━━━━━━━━━━━━━━━━━━━━\u001b[0m \u001b[32m499.2/499.2 kB\u001b[0m \u001b[31m27.7 MB/s\u001b[0m eta \u001b[36m0:00:00\u001b[0m\n",
            "\u001b[?25h"
          ]
        }
      ],
      "source": [
        "# installing all the required drivers for working on selenium\n",
        "\n",
        "# Remove any existing Chrome and ChromeDriver\n",
        "!apt-get purge -y chromium-browser chromium-chromedriver\n",
        "!apt-get update\n",
        "\n",
        "# Download and install a specific version of Chrome\n",
        "!wget https://storage.googleapis.com/chrome-for-testing-public/122.0.6261.111/linux64/chrome-linux64.zip\n",
        "!unzip -q chrome-linux64.zip\n",
        "!mv chrome-linux64 /opt/chrome\n",
        "!ln -s /opt/chrome/chrome /usr/bin/chrome\n",
        "\n",
        "# Download and install the matching ChromeDriver\n",
        "!wget https://storage.googleapis.com/chrome-for-testing-public/122.0.6261.111/linux64/chromedriver-linux64.zip\n",
        "!unzip -q chromedriver-linux64.zip\n",
        "!mv chromedriver-linux64/chromedriver /usr/bin/chromedriver\n",
        "!chmod +x /usr/bin/chromedriver\n",
        "\n",
        "# Install Selenium library\n",
        "!pip install -q selenium"
      ]
    },
    {
      "cell_type": "code",
      "execution_count": null,
      "metadata": {
        "colab": {
          "base_uri": "https://localhost:8080/"
        },
        "id": "mx5XWGvO_v0I",
        "outputId": "c99a9cfc-61cc-4932-86de-e12dd5b43927"
      },
      "outputs": [
        {
          "data": {
            "text/plain": [
              "1780"
            ]
          },
          "execution_count": 2,
          "metadata": {},
          "output_type": "execute_result"
        }
      ],
      "source": [
        "# Opening the target site (CarDekho) and accessing the used cars of a city (Ahmedabad)\n",
        "\n",
        "from selenium import webdriver\n",
        "from selenium.webdriver.chrome.service import Service\n",
        "from selenium.webdriver.chrome.options import Options\n",
        "from selenium.webdriver.common.by import By\n",
        "from selenium.webdriver.common.keys import Keys\n",
        "import time\n",
        "\n",
        "# Chrome options setup\n",
        "options = Options()\n",
        "options.binary_location = \"/usr/bin/chrome\"\n",
        "options.add_argument(\"--headless\")\n",
        "options.add_argument(\"--no-sandbox\")\n",
        "options.add_argument(\"--disable-dev-shm-usage\")\n",
        "\n",
        "# Set ChromeDriver service (path to chromedriver executable)\n",
        "service = Service(\"/usr/bin/chromedriver\")\n",
        "\n",
        "# Launch Browser\n",
        "driver = webdriver.Chrome(service=service, options=options)\n",
        "\n",
        "# Opening the target website (CarDekho)\n",
        "driver.get('https://www.cardekho.com/used-cars+in+ahmedabad#usedCarCity')\n",
        "\n",
        "# Get current page height\n",
        "last_height = driver.execute_script(\"return document.body.scrollHeight\")\n",
        "\n",
        "# Keep scrolling until no new content loads\n",
        "while True:\n",
        "    driver.execute_script(\"window.scrollTo(0, document.body.scrollHeight);\")\n",
        "    time.sleep(5)\n",
        "    new_height = driver.execute_script(\"return document.body.scrollHeight\")\n",
        "    if new_height == last_height:\n",
        "        break\n",
        "    last_height = new_height\n",
        "\n",
        "# Get all car cards\n",
        "elem = driver.find_elements(By.CLASS_NAME, 'NewUcExCard')\n",
        "len(elem)"
      ]
    },
    {
      "cell_type": "code",
      "execution_count": null,
      "metadata": {
        "id": "PtVZ2gmh_62g"
      },
      "outputs": [],
      "source": [
        "# Creating and writing on new text and html files for storing the extracted data\n",
        "\n",
        "for i in elem:\n",
        "    d = i.get_attribute('outerHTML')  # Get full HTML of each car listing\n",
        "\n",
        "    # Appending the HTML to an .html file (for structured viewing)\n",
        "    with open('used_cars.html', 'a') as f:\n",
        "        f.write(d)\n",
        "\n",
        "    # Also appending the same HTML to a .txt file (for raw text reference)\n",
        "    with open('used_cars.txt', 'a') as f:\n",
        "        f.write(d)"
      ]
    },
    {
      "cell_type": "code",
      "execution_count": null,
      "metadata": {
        "colab": {
          "base_uri": "https://localhost:8080/"
        },
        "id": "RR3KetD2LhcW",
        "outputId": "8c57daa2-351b-432e-dd5f-90194ae23d44"
      },
      "outputs": [
        {
          "data": {
            "text/plain": [
              "1272"
            ]
          },
          "execution_count": 4,
          "metadata": {},
          "output_type": "execute_result"
        }
      ],
      "source": [
        "# Repeating the same process of web scraping for different city\n",
        "\n",
        "# Opening the target website (CarDekho)\n",
        "driver.get('https://www.cardekho.com/used-cars+in+jaipur')\n",
        "\n",
        "# Get current page height\n",
        "last_height = driver.execute_script(\"return document.body.scrollHeight\")\n",
        "\n",
        "# Keep scrolling until no new content loads\n",
        "while True:\n",
        "    driver.execute_script(\"window.scrollTo(0, document.body.scrollHeight);\")\n",
        "    time.sleep(5)\n",
        "    new_height = driver.execute_script(\"return document.body.scrollHeight\")\n",
        "    if new_height == last_height:\n",
        "        break\n",
        "    last_height = new_height\n",
        "\n",
        "# Get all car cards\n",
        "elem = driver.find_elements(By.CLASS_NAME, 'NewUcExCard')\n",
        "len(elem)"
      ]
    },
    {
      "cell_type": "code",
      "execution_count": null,
      "metadata": {
        "id": "5RrSERu8-0ra"
      },
      "outputs": [],
      "source": [
        "# Appending the extracted data in the same files created\n",
        "\n",
        "for i in elem:\n",
        "    d = i.get_attribute('outerHTML')  # Get full HTML of each car listing\n",
        "\n",
        "    # Appending the HTML to an .html file (for structured viewing)\n",
        "    with open('used_cars.html', 'a') as f:\n",
        "        f.write(d)\n",
        "\n",
        "    # Also appending the same HTML to a .txt file (for raw text reference)\n",
        "    with open('used_cars.txt', 'a') as f:\n",
        "        f.write(d)"
      ]
    },
    {
      "cell_type": "code",
      "execution_count": null,
      "metadata": {
        "colab": {
          "base_uri": "https://localhost:8080/"
        },
        "id": "y2a_fDVFA1ou",
        "outputId": "aaeb4bab-a398-47b8-ccc0-4f42e746c3ce"
      },
      "outputs": [
        {
          "data": {
            "text/plain": [
              "586"
            ]
          },
          "execution_count": 7,
          "metadata": {},
          "output_type": "execute_result"
        }
      ],
      "source": [
        "# Repeating the same process of web scraping for different city\n",
        "\n",
        "# Opening the target website (CarDekho)\n",
        "driver.get('https://www.cardekho.com/used-cars+in+chandigarh')\n",
        "\n",
        "# Get current page height\n",
        "last_height = driver.execute_script(\"return document.body.scrollHeight\")\n",
        "\n",
        "# Keep scrolling until no new content loads\n",
        "while True:\n",
        "    driver.execute_script(\"window.scrollTo(0, document.body.scrollHeight);\")\n",
        "    time.sleep(5)\n",
        "    new_height = driver.execute_script(\"return document.body.scrollHeight\")\n",
        "    if new_height == last_height:\n",
        "        break\n",
        "    last_height = new_height\n",
        "\n",
        "# Get all car cards\n",
        "elem = driver.find_elements(By.CLASS_NAME, 'NewUcExCard')\n",
        "len(elem)"
      ]
    },
    {
      "cell_type": "code",
      "execution_count": null,
      "metadata": {
        "id": "OQdBo168BbYb"
      },
      "outputs": [],
      "source": [
        "# Appending the extracted data in the same files created\n",
        "\n",
        "for i in elem:\n",
        "    d = i.get_attribute('outerHTML')  # Get full HTML of each car listing\n",
        "\n",
        "    # Appending the HTML to an .html file (for structured viewing)\n",
        "    with open('used_cars.html', 'a') as f:\n",
        "        f.write(d)\n",
        "\n",
        "    # Also appending the same HTML to a .txt file (for raw text reference)\n",
        "    with open('used_cars.txt', 'a') as f:\n",
        "        f.write(d)"
      ]
    },
    {
      "cell_type": "code",
      "execution_count": null,
      "metadata": {
        "colab": {
          "base_uri": "https://localhost:8080/"
        },
        "id": "iUQcQtwtCvrE",
        "outputId": "63506de2-ee1d-42f1-f874-6ecad8fcff5e"
      },
      "outputs": [
        {
          "data": {
            "text/plain": [
              "1446"
            ]
          },
          "execution_count": 9,
          "metadata": {},
          "output_type": "execute_result"
        }
      ],
      "source": [
        "# Repeating the same process of web scraping for different city\n",
        "\n",
        "# Opening the target website (CarDekho)\n",
        "driver.get('https://www.cardekho.com/used-cars+in+chennai')\n",
        "\n",
        "# Get current page height\n",
        "last_height = driver.execute_script(\"return document.body.scrollHeight\")\n",
        "\n",
        "# Keep scrolling until no new content loads\n",
        "while True:\n",
        "    driver.execute_script(\"window.scrollTo(0, document.body.scrollHeight);\")\n",
        "    time.sleep(5)\n",
        "    new_height = driver.execute_script(\"return document.body.scrollHeight\")\n",
        "    if new_height == last_height:\n",
        "        break\n",
        "    last_height = new_height\n",
        "\n",
        "# Get all car cards\n",
        "elem = driver.find_elements(By.CLASS_NAME, 'NewUcExCard')\n",
        "len(elem)"
      ]
    },
    {
      "cell_type": "code",
      "execution_count": null,
      "metadata": {
        "id": "wkLZoazuC1DE"
      },
      "outputs": [],
      "source": [
        "# Appending the extracted data in the same files created\n",
        "\n",
        "for i in elem:\n",
        "    d = i.get_attribute('outerHTML')  # Get full HTML of each car listing\n",
        "\n",
        "    # Appending the HTML to an .html file (for structured viewing)\n",
        "    with open('used_cars.html', 'a') as f:\n",
        "        f.write(d)\n",
        "\n",
        "    # Also appending the same HTML to a .txt file (for raw text reference)\n",
        "    with open('used_cars.txt', 'a') as f:\n",
        "        f.write(d)"
      ]
    },
    {
      "cell_type": "code",
      "execution_count": null,
      "metadata": {
        "colab": {
          "base_uri": "https://localhost:8080/"
        },
        "id": "YxVYIlPYFFpm",
        "outputId": "de56e7f3-b952-4a29-e78c-d76d59cb38dc"
      },
      "outputs": [
        {
          "data": {
            "text/plain": [
              "1820"
            ]
          },
          "execution_count": 13,
          "metadata": {},
          "output_type": "execute_result"
        }
      ],
      "source": [
        "# Repeating the same process of web scraping for different city\n",
        "\n",
        "# Opening the target website (CarDekho)\n",
        "driver.get('https://www.cardekho.com/used-cars+in+hyderabad')\n",
        "\n",
        "# Get current page height\n",
        "last_height = driver.execute_script(\"return document.body.scrollHeight\")\n",
        "\n",
        "# Keep scrolling until no new content loads\n",
        "while True:\n",
        "    driver.execute_script(\"window.scrollTo(0, document.body.scrollHeight);\")\n",
        "    time.sleep(5)\n",
        "    new_height = driver.execute_script(\"return document.body.scrollHeight\")\n",
        "    if new_height == last_height:\n",
        "        break\n",
        "    last_height = new_height\n",
        "\n",
        "# Get all car cards\n",
        "elem = driver.find_elements(By.CLASS_NAME, 'NewUcExCard')\n",
        "len(elem)"
      ]
    },
    {
      "cell_type": "code",
      "execution_count": null,
      "metadata": {
        "id": "1RCScNBdFsab"
      },
      "outputs": [],
      "source": [
        "# Appending the extracted data in the same files created\n",
        "\n",
        "for i in elem:\n",
        "    d = i.get_attribute('outerHTML')  # Get full HTML of each car listing\n",
        "\n",
        "    # Appending the HTML to an .html file (for structured viewing)\n",
        "    with open('used_cars.html', 'a') as f:\n",
        "        f.write(d)\n",
        "\n",
        "    # Also appending the same HTML to a .txt file (for raw text reference)\n",
        "    with open('used_cars.txt', 'a') as f:\n",
        "        f.write(d)"
      ]
    },
    {
      "cell_type": "code",
      "execution_count": null,
      "metadata": {
        "colab": {
          "base_uri": "https://localhost:8080/"
        },
        "id": "m5SYlM2xIh9U",
        "outputId": "875b0b65-0edc-4d21-97a5-6823df1b3668"
      },
      "outputs": [
        {
          "data": {
            "text/plain": [
              "2400"
            ]
          },
          "execution_count": 20,
          "metadata": {},
          "output_type": "execute_result"
        }
      ],
      "source": [
        "# Repeating the same process of web scraping for different city\n",
        "\n",
        "# Opening the target website (CarDekho)\n",
        "driver.get('https://www.cardekho.com/used-cars+in+noida')\n",
        "\n",
        "# Get current page height\n",
        "last_height = driver.execute_script(\"return document.body.scrollHeight\")\n",
        "\n",
        "# Keep scrolling until no new content loads\n",
        "while True:\n",
        "    driver.execute_script(\"window.scrollTo(0, document.body.scrollHeight);\")\n",
        "    time.sleep(10)\n",
        "    new_height = driver.execute_script(\"return document.body.scrollHeight\")\n",
        "    if new_height == last_height:\n",
        "        break\n",
        "    last_height = new_height\n",
        "\n",
        "# Get all car cards\n",
        "elem = driver.find_elements(By.CLASS_NAME, 'NewUcExCard')\n",
        "len(elem)"
      ]
    },
    {
      "cell_type": "code",
      "execution_count": null,
      "metadata": {
        "id": "YX-Mr00WIyHa"
      },
      "outputs": [],
      "source": [
        "# Appending the extracted data in the same files created\n",
        "\n",
        "for i in elem:\n",
        "    d = i.get_attribute('outerHTML')  # Get full HTML of each car listing\n",
        "\n",
        "    # Appending the HTML to an .html file (for structured viewing)\n",
        "    with open('used_cars.html', 'a') as f:\n",
        "        f.write(d)\n",
        "\n",
        "    # Also appending the same HTML to a .txt file (for raw text reference)\n",
        "    with open('used_cars.txt', 'a') as f:\n",
        "        f.write(d)"
      ]
    },
    {
      "cell_type": "code",
      "execution_count": null,
      "metadata": {
        "colab": {
          "background_save": true
        },
        "id": "T1_LR9ZxI2oZ",
        "outputId": "aabeb0db-4e6e-44eb-db78-cd5ce8b0a44b"
      },
      "outputs": [
        {
          "data": {
            "text/plain": [
              "3140"
            ]
          },
          "execution_count": 22,
          "metadata": {},
          "output_type": "execute_result"
        }
      ],
      "source": [
        "# Repeating the same process of web scraping for different city\n",
        "\n",
        "# Opening the target website (CarDekho)\n",
        "driver.get('https://www.cardekho.com/used-cars+in+gurgaon')\n",
        "\n",
        "# Get current page height\n",
        "last_height = driver.execute_script(\"return document.body.scrollHeight\")\n",
        "\n",
        "# Keep scrolling until no new content loads\n",
        "while True:\n",
        "    driver.execute_script(\"window.scrollTo(0, document.body.scrollHeight);\")\n",
        "    time.sleep(10)\n",
        "    new_height = driver.execute_script(\"return document.body.scrollHeight\")\n",
        "    if new_height == last_height:\n",
        "        break\n",
        "    last_height = new_height\n",
        "\n",
        "# Get all car cards\n",
        "elem = driver.find_elements(By.CLASS_NAME, 'NewUcExCard')\n",
        "len(elem)"
      ]
    },
    {
      "cell_type": "code",
      "execution_count": null,
      "metadata": {
        "id": "-aUR3ttNY9sO"
      },
      "outputs": [],
      "source": [
        "# Appending the extracted data in the same files created\n",
        "\n",
        "for i in elem:\n",
        "    d = i.get_attribute('outerHTML')  # Get full HTML of each car listing\n",
        "\n",
        "    # Appending the HTML to an .html file (for structured viewing)\n",
        "    with open('used_cars.html', 'a') as f:\n",
        "        f.write(d)\n",
        "\n",
        "    # Also appending the same HTML to a .txt file (for raw text reference)\n",
        "    with open('used_cars.txt', 'a') as f:\n",
        "        f.write(d)"
      ]
    },
    {
      "cell_type": "code",
      "execution_count": null,
      "metadata": {
        "colab": {
          "base_uri": "https://localhost:8080/"
        },
        "id": "Sa00LkpIZTLW",
        "outputId": "f41f6481-b504-4267-bb2d-f802cb15df44"
      },
      "outputs": [
        {
          "data": {
            "text/plain": [
              "2440"
            ]
          },
          "execution_count": 24,
          "metadata": {},
          "output_type": "execute_result"
        }
      ],
      "source": [
        "# Repeating the same process of web scraping for different city\n",
        "\n",
        "# Opening the target website (CarDekho)\n",
        "driver.get('https://www.cardekho.com/used-cars+in+pune')\n",
        "\n",
        "# Get current page height\n",
        "last_height = driver.execute_script(\"return document.body.scrollHeight\")\n",
        "\n",
        "# Keep scrolling until no new content loads\n",
        "while True:\n",
        "    driver.execute_script(\"window.scrollTo(0, document.body.scrollHeight);\")\n",
        "    time.sleep(10)\n",
        "    new_height = driver.execute_script(\"return document.body.scrollHeight\")\n",
        "    if new_height == last_height:\n",
        "        break\n",
        "    last_height = new_height\n",
        "\n",
        "# Get all car cards\n",
        "elem = driver.find_elements(By.CLASS_NAME, 'NewUcExCard')\n",
        "len(elem)"
      ]
    },
    {
      "cell_type": "code",
      "execution_count": null,
      "metadata": {
        "id": "8AjxyAxhfNPR"
      },
      "outputs": [],
      "source": [
        "# Appending the extracted data in the same files created\n",
        "\n",
        "for i in elem:\n",
        "    d = i.get_attribute('outerHTML')  # Get full HTML of each car listing\n",
        "\n",
        "    # Appending the HTML to an .html file (for structured viewing)\n",
        "    with open('used_cars.html', 'a') as f:\n",
        "        f.write(d)\n",
        "\n",
        "    # Also appending the same HTML to a .txt file (for raw text reference)\n",
        "    with open('used_cars.txt', 'a') as f:\n",
        "        f.write(d)"
      ]
    },
    {
      "cell_type": "code",
      "execution_count": null,
      "metadata": {
        "colab": {
          "background_save": true
        },
        "id": "xfS7oDfefRBK",
        "outputId": "980014c5-2bec-4d61-87b8-8d346f0cdc56"
      },
      "outputs": [
        {
          "data": {
            "text/plain": [
              "3780"
            ]
          },
          "execution_count": 27,
          "metadata": {},
          "output_type": "execute_result"
        }
      ],
      "source": [
        "# Repeating the same process of web scraping for different city\n",
        "\n",
        "# Opening the target website (CarDekho)\n",
        "driver.get('https://www.cardekho.com/used-cars+in+bangalore')\n",
        "\n",
        "# Get current page height\n",
        "last_height = driver.execute_script(\"return document.body.scrollHeight\")\n",
        "\n",
        "# Keep scrolling until no new content loads\n",
        "while True:\n",
        "    driver.execute_script(\"window.scrollTo(0, document.body.scrollHeight);\")\n",
        "    time.sleep(15)\n",
        "    new_height = driver.execute_script(\"return document.body.scrollHeight\")\n",
        "    if new_height == last_height:\n",
        "        break\n",
        "    last_height = new_height\n",
        "\n",
        "# Get all car cards\n",
        "elem = driver.find_elements(By.CLASS_NAME, 'NewUcExCard')\n",
        "len(elem)"
      ]
    },
    {
      "cell_type": "code",
      "source": [
        "# Appending the extracted data in the same files created\n",
        "\n",
        "for i in elem:\n",
        "    d = i.get_attribute('outerHTML')  # Get full HTML of each car listing\n",
        "\n",
        "    # Appending the HTML to an .html file (for structured viewing)\n",
        "    with open('used_cars.html', 'a') as f:\n",
        "        f.write(d)\n",
        "\n",
        "    # Also appending the same HTML to a .txt file (for raw text reference)\n",
        "    with open('used_cars.txt', 'a') as f:\n",
        "        f.write(d)"
      ],
      "metadata": {
        "id": "7LLpn_646sHP"
      },
      "execution_count": 28,
      "outputs": []
    },
    {
      "cell_type": "code",
      "execution_count": 36,
      "metadata": {
        "id": "WQ0N3o6gc0JT"
      },
      "outputs": [],
      "source": [
        "# Importing BeautifulSoup to handle the html data extracted from the site\n",
        "\n",
        "from bs4 import BeautifulSoup\n",
        "\n",
        "# Read saved HTML file\n",
        "with open('used_cars.html', 'r') as f:\n",
        "    html = f.read()\n",
        "\n",
        "# Parse HTML with BeautifulSoup\n",
        "soup = BeautifulSoup(html, 'html.parser')"
      ]
    },
    {
      "cell_type": "code",
      "execution_count": 37,
      "metadata": {
        "id": "TYveOooldTtb"
      },
      "outputs": [],
      "source": [
        "# Extracting & Storing the required fields of data from the html scraped\n",
        "\n",
        "Model=[]\n",
        "MFG=[]\n",
        "Mileage=[]\n",
        "Fuel=[]\n",
        "Transmission=[]\n",
        "City=[]\n",
        "Cost=[]\n",
        "\n",
        "for i in soup:\n",
        "  Model.append(i.find('h3').text.split(' ', 1)[1])  # Extract model name (everything after the first space in <h3>)\n",
        "  MFG.append(i.find('h3').text.split(' ', 1)[0])  # Extract manufacturing year (i.e., first word) from <h3>\n",
        "  Mileage.append(i.find('div', class_='dotsDetails').text.split(' \\xa0 • \\xa0 ')[0].split(' ')[0].replace(',', ''))  # Extract mileage value (remove commas and unit)\n",
        "  Fuel.append(i.find('div', class_='dotsDetails').text.split(' \\xa0 • \\xa0 ')[1])  # Extract fuel type\n",
        "  Transmission.append(i.find('div', class_='dotsDetails').text.split(' \\xa0 • \\xa0 ')[2])  # Extract transmission type\n",
        "  City.append(i.find('div', class_='distanceText').text.split(', ')[-1])  # Extract city name (part after comma)\n",
        "  Cost.append(i.find('p').text)  # Extract cost from <p> tag"
      ]
    },
    {
      "cell_type": "code",
      "execution_count": 38,
      "metadata": {
        "id": "z83AgGFTgIgb"
      },
      "outputs": [],
      "source": [
        "# Finally using the extracted data fields to form a dataframe using pandas\n",
        "\n",
        "import pandas as pd\n",
        "\n",
        "# Create a DataFrame from the collected lists\n",
        "data = {'Model': Model, 'MFG': MFG, 'Mileage': Mileage, 'Fuel': Fuel, 'Transmission': Transmission, 'City': City, 'Cost': Cost}\n",
        "df = pd.DataFrame(data)\n",
        "\n",
        "# Convert 'MFG' and 'Mileage' columns to integer type\n",
        "df['MFG'] = df['MFG'].astype(int)\n",
        "df['Mileage'] = df['Mileage'].astype(int)\n",
        "\n",
        "# Function to convert price strings to numeric value in lacs\n",
        "def in_lacs(text):\n",
        "    text = text.replace(\"₹\", \"\").strip()\n",
        "    if \"Lakh\" in text:\n",
        "        return float(text.replace(\"Lakh\", \"\").strip())\n",
        "    elif \"Crore\" in text:\n",
        "        return float(text.replace(\"Crore\", \"\").strip()) * 100  # 1 Crore = 100 Lakh\n",
        "    else:\n",
        "        return float(text.replace(\",\", \"\").strip()) / 100000  # Convert rupees to lacs if plain number\n",
        "\n",
        "# Apply price conversion to 'Cost' column\n",
        "df['Listing_price (lacs)'] = df['Cost'].apply(in_lacs)\n",
        "df['Listing_price (lacs)'] = df['Listing_price (lacs)'].astype(float)\n",
        "\n",
        "# Drop original 'Cost' column as it's now redundant\n",
        "df.drop('Cost', axis=1, inplace=True)"
      ]
    },
    {
      "cell_type": "code",
      "execution_count": 39,
      "metadata": {
        "colab": {
          "base_uri": "https://localhost:8080/",
          "height": 423
        },
        "id": "uG-ED9FcjBYA",
        "outputId": "067387ed-0bfc-468f-e310-436cf09b0500"
      },
      "outputs": [
        {
          "output_type": "execute_result",
          "data": {
            "text/plain": [
              "                                        Model   MFG  Mileage    Fuel  \\\n",
              "0                     Kia Sonet HTK Plus BSVI  2020    34000  Petrol   \n",
              "1                            Maruti Swift VXI  2014    38000  Petrol   \n",
              "2                           Hyundai i10 Magna  2011    50000  Petrol   \n",
              "3       Mahindra Thar LX 4WD Hard Top AT BSVI  2022    22000  Petrol   \n",
              "4           Hyundai Creta 1.6 VTVT AT SX Plus  2019    70000  Petrol   \n",
              "...                                       ...   ...      ...     ...   \n",
              "18659              Maruti Baleno Alpha Diesel  2018    34757  Diesel   \n",
              "18660             Renault KWID Climber 1.0 MT  2018    23889  Petrol   \n",
              "18661    Toyota Innova Crysta 2.7 ZX 7 STR AT  2022    15750  Petrol   \n",
              "18662                     Maruti Alto K10 VXI  2019    39166  Petrol   \n",
              "18663  Mahindra KUV 100 NXT G80 K2 Plus 6 Str  2017    32732  Petrol   \n",
              "\n",
              "      Transmission       City  Listing_price (lacs)  \n",
              "0           Manual  Ahmedabad                  7.99  \n",
              "1           Manual  Ahmedabad                  3.75  \n",
              "2           Manual  Ahmedabad                  2.40  \n",
              "3        Automatic  Ahmedabad                 13.50  \n",
              "4        Automatic  Ahmedabad                 10.00  \n",
              "...            ...        ...                   ...  \n",
              "18659       Manual  Bangalore                  6.09  \n",
              "18660       Manual  Bangalore                  4.23  \n",
              "18661    Automatic  Bangalore                 23.50  \n",
              "18662       Manual  Bangalore                  3.81  \n",
              "18663       Manual  Bangalore                  3.73  \n",
              "\n",
              "[18664 rows x 7 columns]"
            ],
            "text/html": [
              "\n",
              "  <div id=\"df-45542681-db56-4082-8f3a-8614c86899d6\" class=\"colab-df-container\">\n",
              "    <div>\n",
              "<style scoped>\n",
              "    .dataframe tbody tr th:only-of-type {\n",
              "        vertical-align: middle;\n",
              "    }\n",
              "\n",
              "    .dataframe tbody tr th {\n",
              "        vertical-align: top;\n",
              "    }\n",
              "\n",
              "    .dataframe thead th {\n",
              "        text-align: right;\n",
              "    }\n",
              "</style>\n",
              "<table border=\"1\" class=\"dataframe\">\n",
              "  <thead>\n",
              "    <tr style=\"text-align: right;\">\n",
              "      <th></th>\n",
              "      <th>Model</th>\n",
              "      <th>MFG</th>\n",
              "      <th>Mileage</th>\n",
              "      <th>Fuel</th>\n",
              "      <th>Transmission</th>\n",
              "      <th>City</th>\n",
              "      <th>Listing_price (lacs)</th>\n",
              "    </tr>\n",
              "  </thead>\n",
              "  <tbody>\n",
              "    <tr>\n",
              "      <th>0</th>\n",
              "      <td>Kia Sonet HTK Plus BSVI</td>\n",
              "      <td>2020</td>\n",
              "      <td>34000</td>\n",
              "      <td>Petrol</td>\n",
              "      <td>Manual</td>\n",
              "      <td>Ahmedabad</td>\n",
              "      <td>7.99</td>\n",
              "    </tr>\n",
              "    <tr>\n",
              "      <th>1</th>\n",
              "      <td>Maruti Swift VXI</td>\n",
              "      <td>2014</td>\n",
              "      <td>38000</td>\n",
              "      <td>Petrol</td>\n",
              "      <td>Manual</td>\n",
              "      <td>Ahmedabad</td>\n",
              "      <td>3.75</td>\n",
              "    </tr>\n",
              "    <tr>\n",
              "      <th>2</th>\n",
              "      <td>Hyundai i10 Magna</td>\n",
              "      <td>2011</td>\n",
              "      <td>50000</td>\n",
              "      <td>Petrol</td>\n",
              "      <td>Manual</td>\n",
              "      <td>Ahmedabad</td>\n",
              "      <td>2.40</td>\n",
              "    </tr>\n",
              "    <tr>\n",
              "      <th>3</th>\n",
              "      <td>Mahindra Thar LX 4WD Hard Top AT BSVI</td>\n",
              "      <td>2022</td>\n",
              "      <td>22000</td>\n",
              "      <td>Petrol</td>\n",
              "      <td>Automatic</td>\n",
              "      <td>Ahmedabad</td>\n",
              "      <td>13.50</td>\n",
              "    </tr>\n",
              "    <tr>\n",
              "      <th>4</th>\n",
              "      <td>Hyundai Creta 1.6 VTVT AT SX Plus</td>\n",
              "      <td>2019</td>\n",
              "      <td>70000</td>\n",
              "      <td>Petrol</td>\n",
              "      <td>Automatic</td>\n",
              "      <td>Ahmedabad</td>\n",
              "      <td>10.00</td>\n",
              "    </tr>\n",
              "    <tr>\n",
              "      <th>...</th>\n",
              "      <td>...</td>\n",
              "      <td>...</td>\n",
              "      <td>...</td>\n",
              "      <td>...</td>\n",
              "      <td>...</td>\n",
              "      <td>...</td>\n",
              "      <td>...</td>\n",
              "    </tr>\n",
              "    <tr>\n",
              "      <th>18659</th>\n",
              "      <td>Maruti Baleno Alpha Diesel</td>\n",
              "      <td>2018</td>\n",
              "      <td>34757</td>\n",
              "      <td>Diesel</td>\n",
              "      <td>Manual</td>\n",
              "      <td>Bangalore</td>\n",
              "      <td>6.09</td>\n",
              "    </tr>\n",
              "    <tr>\n",
              "      <th>18660</th>\n",
              "      <td>Renault KWID Climber 1.0 MT</td>\n",
              "      <td>2018</td>\n",
              "      <td>23889</td>\n",
              "      <td>Petrol</td>\n",
              "      <td>Manual</td>\n",
              "      <td>Bangalore</td>\n",
              "      <td>4.23</td>\n",
              "    </tr>\n",
              "    <tr>\n",
              "      <th>18661</th>\n",
              "      <td>Toyota Innova Crysta 2.7 ZX 7 STR AT</td>\n",
              "      <td>2022</td>\n",
              "      <td>15750</td>\n",
              "      <td>Petrol</td>\n",
              "      <td>Automatic</td>\n",
              "      <td>Bangalore</td>\n",
              "      <td>23.50</td>\n",
              "    </tr>\n",
              "    <tr>\n",
              "      <th>18662</th>\n",
              "      <td>Maruti Alto K10 VXI</td>\n",
              "      <td>2019</td>\n",
              "      <td>39166</td>\n",
              "      <td>Petrol</td>\n",
              "      <td>Manual</td>\n",
              "      <td>Bangalore</td>\n",
              "      <td>3.81</td>\n",
              "    </tr>\n",
              "    <tr>\n",
              "      <th>18663</th>\n",
              "      <td>Mahindra KUV 100 NXT G80 K2 Plus 6 Str</td>\n",
              "      <td>2017</td>\n",
              "      <td>32732</td>\n",
              "      <td>Petrol</td>\n",
              "      <td>Manual</td>\n",
              "      <td>Bangalore</td>\n",
              "      <td>3.73</td>\n",
              "    </tr>\n",
              "  </tbody>\n",
              "</table>\n",
              "<p>18664 rows × 7 columns</p>\n",
              "</div>\n",
              "    <div class=\"colab-df-buttons\">\n",
              "\n",
              "  <div class=\"colab-df-container\">\n",
              "    <button class=\"colab-df-convert\" onclick=\"convertToInteractive('df-45542681-db56-4082-8f3a-8614c86899d6')\"\n",
              "            title=\"Convert this dataframe to an interactive table.\"\n",
              "            style=\"display:none;\">\n",
              "\n",
              "  <svg xmlns=\"http://www.w3.org/2000/svg\" height=\"24px\" viewBox=\"0 -960 960 960\">\n",
              "    <path d=\"M120-120v-720h720v720H120Zm60-500h600v-160H180v160Zm220 220h160v-160H400v160Zm0 220h160v-160H400v160ZM180-400h160v-160H180v160Zm440 0h160v-160H620v160ZM180-180h160v-160H180v160Zm440 0h160v-160H620v160Z\"/>\n",
              "  </svg>\n",
              "    </button>\n",
              "\n",
              "  <style>\n",
              "    .colab-df-container {\n",
              "      display:flex;\n",
              "      gap: 12px;\n",
              "    }\n",
              "\n",
              "    .colab-df-convert {\n",
              "      background-color: #E8F0FE;\n",
              "      border: none;\n",
              "      border-radius: 50%;\n",
              "      cursor: pointer;\n",
              "      display: none;\n",
              "      fill: #1967D2;\n",
              "      height: 32px;\n",
              "      padding: 0 0 0 0;\n",
              "      width: 32px;\n",
              "    }\n",
              "\n",
              "    .colab-df-convert:hover {\n",
              "      background-color: #E2EBFA;\n",
              "      box-shadow: 0px 1px 2px rgba(60, 64, 67, 0.3), 0px 1px 3px 1px rgba(60, 64, 67, 0.15);\n",
              "      fill: #174EA6;\n",
              "    }\n",
              "\n",
              "    .colab-df-buttons div {\n",
              "      margin-bottom: 4px;\n",
              "    }\n",
              "\n",
              "    [theme=dark] .colab-df-convert {\n",
              "      background-color: #3B4455;\n",
              "      fill: #D2E3FC;\n",
              "    }\n",
              "\n",
              "    [theme=dark] .colab-df-convert:hover {\n",
              "      background-color: #434B5C;\n",
              "      box-shadow: 0px 1px 3px 1px rgba(0, 0, 0, 0.15);\n",
              "      filter: drop-shadow(0px 1px 2px rgba(0, 0, 0, 0.3));\n",
              "      fill: #FFFFFF;\n",
              "    }\n",
              "  </style>\n",
              "\n",
              "    <script>\n",
              "      const buttonEl =\n",
              "        document.querySelector('#df-45542681-db56-4082-8f3a-8614c86899d6 button.colab-df-convert');\n",
              "      buttonEl.style.display =\n",
              "        google.colab.kernel.accessAllowed ? 'block' : 'none';\n",
              "\n",
              "      async function convertToInteractive(key) {\n",
              "        const element = document.querySelector('#df-45542681-db56-4082-8f3a-8614c86899d6');\n",
              "        const dataTable =\n",
              "          await google.colab.kernel.invokeFunction('convertToInteractive',\n",
              "                                                    [key], {});\n",
              "        if (!dataTable) return;\n",
              "\n",
              "        const docLinkHtml = 'Like what you see? Visit the ' +\n",
              "          '<a target=\"_blank\" href=https://colab.research.google.com/notebooks/data_table.ipynb>data table notebook</a>'\n",
              "          + ' to learn more about interactive tables.';\n",
              "        element.innerHTML = '';\n",
              "        dataTable['output_type'] = 'display_data';\n",
              "        await google.colab.output.renderOutput(dataTable, element);\n",
              "        const docLink = document.createElement('div');\n",
              "        docLink.innerHTML = docLinkHtml;\n",
              "        element.appendChild(docLink);\n",
              "      }\n",
              "    </script>\n",
              "  </div>\n",
              "\n",
              "\n",
              "    <div id=\"df-85cb8033-f6c2-4773-80fb-13679182c5bc\">\n",
              "      <button class=\"colab-df-quickchart\" onclick=\"quickchart('df-85cb8033-f6c2-4773-80fb-13679182c5bc')\"\n",
              "                title=\"Suggest charts\"\n",
              "                style=\"display:none;\">\n",
              "\n",
              "<svg xmlns=\"http://www.w3.org/2000/svg\" height=\"24px\"viewBox=\"0 0 24 24\"\n",
              "     width=\"24px\">\n",
              "    <g>\n",
              "        <path d=\"M19 3H5c-1.1 0-2 .9-2 2v14c0 1.1.9 2 2 2h14c1.1 0 2-.9 2-2V5c0-1.1-.9-2-2-2zM9 17H7v-7h2v7zm4 0h-2V7h2v10zm4 0h-2v-4h2v4z\"/>\n",
              "    </g>\n",
              "</svg>\n",
              "      </button>\n",
              "\n",
              "<style>\n",
              "  .colab-df-quickchart {\n",
              "      --bg-color: #E8F0FE;\n",
              "      --fill-color: #1967D2;\n",
              "      --hover-bg-color: #E2EBFA;\n",
              "      --hover-fill-color: #174EA6;\n",
              "      --disabled-fill-color: #AAA;\n",
              "      --disabled-bg-color: #DDD;\n",
              "  }\n",
              "\n",
              "  [theme=dark] .colab-df-quickchart {\n",
              "      --bg-color: #3B4455;\n",
              "      --fill-color: #D2E3FC;\n",
              "      --hover-bg-color: #434B5C;\n",
              "      --hover-fill-color: #FFFFFF;\n",
              "      --disabled-bg-color: #3B4455;\n",
              "      --disabled-fill-color: #666;\n",
              "  }\n",
              "\n",
              "  .colab-df-quickchart {\n",
              "    background-color: var(--bg-color);\n",
              "    border: none;\n",
              "    border-radius: 50%;\n",
              "    cursor: pointer;\n",
              "    display: none;\n",
              "    fill: var(--fill-color);\n",
              "    height: 32px;\n",
              "    padding: 0;\n",
              "    width: 32px;\n",
              "  }\n",
              "\n",
              "  .colab-df-quickchart:hover {\n",
              "    background-color: var(--hover-bg-color);\n",
              "    box-shadow: 0 1px 2px rgba(60, 64, 67, 0.3), 0 1px 3px 1px rgba(60, 64, 67, 0.15);\n",
              "    fill: var(--button-hover-fill-color);\n",
              "  }\n",
              "\n",
              "  .colab-df-quickchart-complete:disabled,\n",
              "  .colab-df-quickchart-complete:disabled:hover {\n",
              "    background-color: var(--disabled-bg-color);\n",
              "    fill: var(--disabled-fill-color);\n",
              "    box-shadow: none;\n",
              "  }\n",
              "\n",
              "  .colab-df-spinner {\n",
              "    border: 2px solid var(--fill-color);\n",
              "    border-color: transparent;\n",
              "    border-bottom-color: var(--fill-color);\n",
              "    animation:\n",
              "      spin 1s steps(1) infinite;\n",
              "  }\n",
              "\n",
              "  @keyframes spin {\n",
              "    0% {\n",
              "      border-color: transparent;\n",
              "      border-bottom-color: var(--fill-color);\n",
              "      border-left-color: var(--fill-color);\n",
              "    }\n",
              "    20% {\n",
              "      border-color: transparent;\n",
              "      border-left-color: var(--fill-color);\n",
              "      border-top-color: var(--fill-color);\n",
              "    }\n",
              "    30% {\n",
              "      border-color: transparent;\n",
              "      border-left-color: var(--fill-color);\n",
              "      border-top-color: var(--fill-color);\n",
              "      border-right-color: var(--fill-color);\n",
              "    }\n",
              "    40% {\n",
              "      border-color: transparent;\n",
              "      border-right-color: var(--fill-color);\n",
              "      border-top-color: var(--fill-color);\n",
              "    }\n",
              "    60% {\n",
              "      border-color: transparent;\n",
              "      border-right-color: var(--fill-color);\n",
              "    }\n",
              "    80% {\n",
              "      border-color: transparent;\n",
              "      border-right-color: var(--fill-color);\n",
              "      border-bottom-color: var(--fill-color);\n",
              "    }\n",
              "    90% {\n",
              "      border-color: transparent;\n",
              "      border-bottom-color: var(--fill-color);\n",
              "    }\n",
              "  }\n",
              "</style>\n",
              "\n",
              "      <script>\n",
              "        async function quickchart(key) {\n",
              "          const quickchartButtonEl =\n",
              "            document.querySelector('#' + key + ' button');\n",
              "          quickchartButtonEl.disabled = true;  // To prevent multiple clicks.\n",
              "          quickchartButtonEl.classList.add('colab-df-spinner');\n",
              "          try {\n",
              "            const charts = await google.colab.kernel.invokeFunction(\n",
              "                'suggestCharts', [key], {});\n",
              "          } catch (error) {\n",
              "            console.error('Error during call to suggestCharts:', error);\n",
              "          }\n",
              "          quickchartButtonEl.classList.remove('colab-df-spinner');\n",
              "          quickchartButtonEl.classList.add('colab-df-quickchart-complete');\n",
              "        }\n",
              "        (() => {\n",
              "          let quickchartButtonEl =\n",
              "            document.querySelector('#df-85cb8033-f6c2-4773-80fb-13679182c5bc button');\n",
              "          quickchartButtonEl.style.display =\n",
              "            google.colab.kernel.accessAllowed ? 'block' : 'none';\n",
              "        })();\n",
              "      </script>\n",
              "    </div>\n",
              "\n",
              "  <div id=\"id_78fe047e-ba38-4d36-a75e-2f2b18bba8fa\">\n",
              "    <style>\n",
              "      .colab-df-generate {\n",
              "        background-color: #E8F0FE;\n",
              "        border: none;\n",
              "        border-radius: 50%;\n",
              "        cursor: pointer;\n",
              "        display: none;\n",
              "        fill: #1967D2;\n",
              "        height: 32px;\n",
              "        padding: 0 0 0 0;\n",
              "        width: 32px;\n",
              "      }\n",
              "\n",
              "      .colab-df-generate:hover {\n",
              "        background-color: #E2EBFA;\n",
              "        box-shadow: 0px 1px 2px rgba(60, 64, 67, 0.3), 0px 1px 3px 1px rgba(60, 64, 67, 0.15);\n",
              "        fill: #174EA6;\n",
              "      }\n",
              "\n",
              "      [theme=dark] .colab-df-generate {\n",
              "        background-color: #3B4455;\n",
              "        fill: #D2E3FC;\n",
              "      }\n",
              "\n",
              "      [theme=dark] .colab-df-generate:hover {\n",
              "        background-color: #434B5C;\n",
              "        box-shadow: 0px 1px 3px 1px rgba(0, 0, 0, 0.15);\n",
              "        filter: drop-shadow(0px 1px 2px rgba(0, 0, 0, 0.3));\n",
              "        fill: #FFFFFF;\n",
              "      }\n",
              "    </style>\n",
              "    <button class=\"colab-df-generate\" onclick=\"generateWithVariable('df')\"\n",
              "            title=\"Generate code using this dataframe.\"\n",
              "            style=\"display:none;\">\n",
              "\n",
              "  <svg xmlns=\"http://www.w3.org/2000/svg\" height=\"24px\"viewBox=\"0 0 24 24\"\n",
              "       width=\"24px\">\n",
              "    <path d=\"M7,19H8.4L18.45,9,17,7.55,7,17.6ZM5,21V16.75L18.45,3.32a2,2,0,0,1,2.83,0l1.4,1.43a1.91,1.91,0,0,1,.58,1.4,1.91,1.91,0,0,1-.58,1.4L9.25,21ZM18.45,9,17,7.55Zm-12,3A5.31,5.31,0,0,0,4.9,8.1,5.31,5.31,0,0,0,1,6.5,5.31,5.31,0,0,0,4.9,4.9,5.31,5.31,0,0,0,6.5,1,5.31,5.31,0,0,0,8.1,4.9,5.31,5.31,0,0,0,12,6.5,5.46,5.46,0,0,0,6.5,12Z\"/>\n",
              "  </svg>\n",
              "    </button>\n",
              "    <script>\n",
              "      (() => {\n",
              "      const buttonEl =\n",
              "        document.querySelector('#id_78fe047e-ba38-4d36-a75e-2f2b18bba8fa button.colab-df-generate');\n",
              "      buttonEl.style.display =\n",
              "        google.colab.kernel.accessAllowed ? 'block' : 'none';\n",
              "\n",
              "      buttonEl.onclick = () => {\n",
              "        google.colab.notebook.generateWithVariable('df');\n",
              "      }\n",
              "      })();\n",
              "    </script>\n",
              "  </div>\n",
              "\n",
              "    </div>\n",
              "  </div>\n"
            ],
            "application/vnd.google.colaboratory.intrinsic+json": {
              "type": "dataframe",
              "variable_name": "df",
              "summary": "{\n  \"name\": \"df\",\n  \"rows\": 18664,\n  \"fields\": [\n    {\n      \"column\": \"Model\",\n      \"properties\": {\n        \"dtype\": \"category\",\n        \"num_unique_values\": 3027,\n        \"samples\": [\n          \"Mercedes-Benz C-Class 250 CDI Classic\",\n          \"Maruti Swift Dzire VXI\",\n          \"Honda BR-V Style Edition Diesel VX\"\n        ],\n        \"semantic_type\": \"\",\n        \"description\": \"\"\n      }\n    },\n    {\n      \"column\": \"MFG\",\n      \"properties\": {\n        \"dtype\": \"number\",\n        \"std\": 3,\n        \"min\": 1993,\n        \"max\": 2025,\n        \"num_unique_values\": 28,\n        \"samples\": [\n          2013,\n          1998,\n          2023\n        ],\n        \"semantic_type\": \"\",\n        \"description\": \"\"\n      }\n    },\n    {\n      \"column\": \"Mileage\",\n      \"properties\": {\n        \"dtype\": \"number\",\n        \"std\": 69776,\n        \"min\": 101,\n        \"max\": 7700000,\n        \"num_unique_values\": 6256,\n        \"samples\": [\n          189000,\n          20888,\n          72273\n        ],\n        \"semantic_type\": \"\",\n        \"description\": \"\"\n      }\n    },\n    {\n      \"column\": \"Fuel\",\n      \"properties\": {\n        \"dtype\": \"category\",\n        \"num_unique_values\": 5,\n        \"samples\": [\n          \"Diesel\",\n          \"LPG\",\n          \"CNG\"\n        ],\n        \"semantic_type\": \"\",\n        \"description\": \"\"\n      }\n    },\n    {\n      \"column\": \"Transmission\",\n      \"properties\": {\n        \"dtype\": \"category\",\n        \"num_unique_values\": 2,\n        \"samples\": [\n          \"Automatic\",\n          \"Manual\"\n        ],\n        \"semantic_type\": \"\",\n        \"description\": \"\"\n      }\n    },\n    {\n      \"column\": \"City\",\n      \"properties\": {\n        \"dtype\": \"category\",\n        \"num_unique_values\": 15,\n        \"samples\": [\n          \"Hyderabad\",\n          \"Ghaziabad\"\n        ],\n        \"semantic_type\": \"\",\n        \"description\": \"\"\n      }\n    },\n    {\n      \"column\": \"Listing_price (lacs)\",\n      \"properties\": {\n        \"dtype\": \"number\",\n        \"std\": 18.23068416801002,\n        \"min\": 0.25,\n        \"max\": 291.0,\n        \"num_unique_values\": 1649,\n        \"samples\": [\n          50.0,\n          15.36\n        ],\n        \"semantic_type\": \"\",\n        \"description\": \"\"\n      }\n    }\n  ]\n}"
            }
          },
          "metadata": {},
          "execution_count": 39
        }
      ],
      "source": [
        "# Converting our dataset to a .csv file to save it\n",
        "\n",
        "df.to_csv('used_cars_data.csv', index=False)  # Save DataFrame to CSV without row indices\n",
        "df  # Display the DataFrame"
      ]
    }
  ],
  "metadata": {
    "colab": {
      "provenance": []
    },
    "kernelspec": {
      "display_name": "Python 3",
      "name": "python3"
    },
    "language_info": {
      "name": "python"
    }
  },
  "nbformat": 4,
  "nbformat_minor": 0
}